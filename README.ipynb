# Exercicio3
Crie um repositório com alguns arquivos de código fonte da lista de exercícios 06 e envie o link desse repositório para os professores da disciplina, com um resumo da sequência de comandos git utilizados.

