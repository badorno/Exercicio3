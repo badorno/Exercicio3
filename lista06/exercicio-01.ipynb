{
 "cells": [
  {
   "cell_type": "markdown",
   "metadata": {},
   "source": [
    "Exercício 1\n",
    "Dadas as seguintes séries temporais:\n",
    "* s1 → 168, 398, 451, 337, 186, 232, 262, 349, 189, 204, 220, 220, 207, 239, 259, 258, 242, 331, 251, 323, 106, 1055, 170\n",
    "\n",
    "\n",
    "\n",
    "* s2 → 168, 400, 451, 300, 186, 200, 262, 349, 189, 204, 220, 220, 207, 239, 259, 258, 242, 331, 251, 180, 106, 1055, 200\n",
    "\n",
    "Utilize funções NumPy para:\n",
    "* i) calcular a `distância euclidiana` entre as séries\n",
    "* ii) calcular a série temporal com os `valores médios` entre `s1` e `s2`\n",
    "* iii) calcular a série temporal com os `valores máximos` de cada instante entre `s1` e `s2` \n",
    "* iv) calcular a série temporal com os `valores mínimos` de cada instante entre `s1` e `s2`\n"
   ]
  },
  {
   "cell_type": "markdown",
   "metadata": {},
   "source": [
    "# RESPOSTA i)"
   ]
  },
  {
   "cell_type": "markdown",
   "metadata": {},
   "source": [
    "A distância euclidiana é dada por:\n",
    "$d(s_1, s_2) = \\sqrt{\\sum_{i=0}^{N-1}(s_{2_i} - s_{1_i})^2}$"
   ]
  },
  {
   "cell_type": "markdown",
   "metadata": {},
   "source": [
    "Podemos inicialmente subtrair todos os termos\n",
    "\n",
    "$\\text{subtracao} = [s_2 - s_1]$\n",
    "\n",
    "Depois fazemos o produto de cada elemento por si mesmo (quadrado)\n",
    "\n",
    "$\\text{quadrado} = \\text{subtracao} * \\text{subtracao}$\n",
    "\n",
    "Na sequência somamos os valores quadrados\n",
    "$\\text{somatorio} = \\sum_{i=0}^{N-1}\\text{quadrado}$\n",
    "\n",
    "Por fim, fazemos calcular a raiz\n",
    "\n",
    "$d(s_1, s_2) = \\sqrt{\\text{somatorio}}$"
   ]
  },
  {
   "cell_type": "code",
   "execution_count": 8,
   "metadata": {},
   "outputs": [
    {
     "name": "stdout",
     "output_type": "stream",
     "text": [
      "subtração\n",
      " [   0    2    0  -37    0  -32    0    0    0    0    0    0    0    0\n",
      "    0    0    0    0    0 -143    0    0   30]\n",
      "quadrado\n",
      " [    0     4     0  1369     0  1024     0     0     0     0     0     0\n",
      "     0     0     0     0     0     0     0 20449     0     0   900]\n",
      "somatorio\n",
      " 23746\n",
      "distância euclidiana\n",
      " 154.09737181405788\n"
     ]
    }
   ],
   "source": [
    "# importanto a biblioteca numpy\n",
    "\n",
    "import numpy as np\n",
    "\n",
    "# inserindo as séries em arranjos matriciais\n",
    "\n",
    "s1 = np.array((168, 398, 451, 337, 186, 232, 262, 349, 189, 204, 220, 220, 207, 239, 259, 258, 242, 331, 251, 323, 106, 1055, 170))\n",
    "s2 = np.array((168, 400, 451, 300, 186, 200, 262, 349, 189, 204, 220, 220, 207, 239, 259, 258, 242, 331, 251, 180, 106, 1055, 200))\n",
    "\n",
    "# subtraindo termos das séries S2 - S1\n",
    "subtracao = s2-s1\n",
    "print(\"subtração\\n\",subtracao)\n",
    "# definindo o quadrado de cada subtração\n",
    "quadrado = subtracao * subtracao\n",
    "print(\"quadrado\\n\",quadrado)\n",
    "# aplicando somatório de cada termo na matriz 'quadrado'\n",
    "somatorio = np.sum(quadrado)\n",
    "print(\"somatorio\\n\",somatorio)\n",
    "# extraindo a raíz do somatorio\n",
    "distancia_euclidiana = np.sqrt(somatorio)\n",
    "\n",
    "print(\"distância euclidiana\\n\",distancia_euclidiana)\n"
   ]
  },
  {
   "cell_type": "markdown",
   "metadata": {},
   "source": [
    "# RESPOSTA ii)"
   ]
  },
  {
   "cell_type": "markdown",
   "metadata": {},
   "source": [
    "A série temporal com valores médios entre os correspondentes `s1` e `s2` pode ser calculada pela fórmula.\n",
    "$\\mu_{serie} = (i_{s1}+i_{s2})/2$"
   ]
  },
  {
   "cell_type": "code",
   "execution_count": 11,
   "metadata": {},
   "outputs": [
    {
     "name": "stdout",
     "output_type": "stream",
     "text": [
      "soma\n",
      " [ 336  798  902  637  372  432  524  698  378  408  440  440  414  478\n",
      "  518  516  484  662  502  503  212 2110  370]\n",
      "Serie temporal com valores medios\n",
      " [ 168.   399.   451.   318.5  186.   216.   262.   349.   189.   204.\n",
      "  220.   220.   207.   239.   259.   258.   242.   331.   251.   251.5\n",
      "  106.  1055.   185. ]\n"
     ]
    }
   ],
   "source": [
    "# com valor da serie previamente definido, calcula-se em duas etapas\n",
    "\n",
    "# soma das séries\n",
    "\n",
    "soma_serie = s1 + s2\n",
    "print(\"soma\\n\", soma_serie)\n",
    "\n",
    "media = soma_serie/2\n",
    "print(\"Serie temporal com valores medios\\n\", media)"
   ]
  },
  {
   "cell_type": "markdown",
   "metadata": {},
   "source": [
    "# RESPOSTA iii)"
   ]
  },
  {
   "cell_type": "markdown",
   "metadata": {},
   "source": [
    "O valor máximo será o maior valor da mesma posição `i` de cada série: $\\max_{serie} = \\max{(s1,s2)}$"
   ]
  },
  {
   "cell_type": "code",
   "execution_count": 19,
   "metadata": {},
   "outputs": [
    {
     "name": "stdout",
     "output_type": "stream",
     "text": [
      "serie 1 e 2 em um data frame\n",
      " [[ 168  398  451  337  186  232  262  349  189  204  220  220  207  239\n",
      "   259  258  242  331  251  323  106 1055  170]\n",
      " [ 168  400  451  300  186  200  262  349  189  204  220  220  207  239\n",
      "   259  258  242  331  251  180  106 1055  200]]\n",
      "serie com valores maximos\n",
      " [ 168  400  451  337  186  232  262  349  189  204  220  220  207  239\n",
      "  259  258  242  331  251  323  106 1055  200]\n"
     ]
    }
   ],
   "source": [
    "# organizando as séries em um DataFrame\n",
    "series_mistas = np.array((s1,s2))\n",
    "print(\"serie 1 e 2 em um data frame\\n\",series_mistas)\n",
    "\n",
    "# atribuindo valor máximo do eixo 0, nas colunas\n",
    "serie_max = series_mistas.max(axis=0)\n",
    "print(\"serie com valores maximos\\n\",serie_max)"
   ]
  },
  {
   "cell_type": "markdown",
   "metadata": {},
   "source": [
    "O valor máximo será o maior valor da mesma posição `i`  de cada série:  $\\min_{𝑠𝑒𝑟𝑖𝑒}=\\min(𝑠1,𝑠2)$"
   ]
  },
  {
   "cell_type": "code",
   "execution_count": 20,
   "metadata": {},
   "outputs": [
    {
     "name": "stdout",
     "output_type": "stream",
     "text": [
      "serie com valores maximos\n",
      " [ 168  398  451  300  186  200  262  349  189  204  220  220  207  239\n",
      "  259  258  242  331  251  180  106 1055  170]\n"
     ]
    }
   ],
   "source": [
    "# atribuindo valor mínimo do eixo 0, nas colunas\n",
    "serie_min = series_mistas.min(axis=0)\n",
    "print(\"serie com valores mínimos\\n\",serie_min)"
   ]
  }
 ],
 "metadata": {
  "kernelspec": {
   "display_name": "Python 3",
   "language": "python",
   "name": "python3"
  },
  "language_info": {
   "codemirror_mode": {
    "name": "ipython",
    "version": 3
   },
   "file_extension": ".py",
   "mimetype": "text/x-python",
   "name": "python",
   "nbconvert_exporter": "python",
   "pygments_lexer": "ipython3",
   "version": "3.7.6"
  }
 },
 "nbformat": 4,
 "nbformat_minor": 4
}
