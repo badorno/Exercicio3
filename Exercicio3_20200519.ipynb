{
 "cells": [
  {
   "cell_type": "markdown",
   "metadata": {},
   "source": [
    "As seguintes etapas foram cumpridas para inserir arquivos python da lista 6 neste repositório:\n",
    "\n",
    "i) gerei um `clone` do repositório remoto no meu laptop pelo seguinte comando:"
   ]
  },
  {
   "cell_type": "raw",
   "metadata": {},
   "source": [
    "- git clone https://github.com/badorno/Exercicio3\n",
    "\n",
    "    Resultado:\n",
    "\n",
    "    Cloning into 'Exercicio3'...\n",
    "    remote: Enumerating objects: 5, done.\n",
    "    remote: Counting objects: 100% (5/5), done.\n",
    "    remote: Compressing objects: 100% (5/5), done.\n",
    "    remote: Total 5 (delta 0), reused 0 (delta 0), pack-reused 0\n",
    "    Unpacking objects: 100% (5/5), done.\n"
   ]
  },
  {
   "cell_type": "markdown",
   "metadata": {},
   "source": [
    "ii) Entrei na pasta Exercicio 3"
   ]
  },
  {
   "cell_type": "raw",
   "metadata": {},
   "source": [
    "(base) Brunos-MacBook-Pro:Documents brunovargasadorno$ cd Exercicio3"
   ]
  },
  {
   "attachments": {},
   "cell_type": "markdown",
   "metadata": {},
   "source": [
    "iii) Copiei arquivos .py da lista 6 para o repositório do computador."
   ]
  },
  {
   "cell_type": "markdown",
   "metadata": {},
   "source": [
    "iv) verifiquei o status do git com o comando `git status`, para avaliar a diferença de sincronização com a interface remota"
   ]
  },
  {
   "cell_type": "raw",
   "metadata": {},
   "source": [
    "(base) Brunos-MacBook-Pro:Exercicio3 brunovargasadorno$ git status\n",
    "On branch master\n",
    "Your branch is up to date with 'origin/master'.\n",
    "\n",
    "Untracked files:\n",
    "  (use \"git add <file>...\" to include in what will be committed)\n",
    "\n",
    "\t.DS_Store\n",
    "\tLista06/\n",
    "\n",
    "nothing added to commit but untracked files present (use \"git add\" to track)"
   ]
  },
  {
   "cell_type": "markdown",
   "metadata": {},
   "source": [
    "v) \n",
    "Nota-se que foi identificad a pasta `lista06` (que contem os arquivos) e um arquivo `.DS_Store` (que aparentemente está oculto) como `untracked`, pois ainda não foram reconhecidas ainda no ambiente remoto.\n",
    "\n",
    "Para resolver essa questão foi realizado os seguintes comandos para adicionar e confirmar a nova pasta (inserindo a mensagem `Pasta com arquivos referentes à lista 06`"
   ]
  },
  {
   "cell_type": "raw",
   "metadata": {},
   "source": [
    "(base) Brunos-MacBook-Pro:Exercicio3 brunovargasadorno$ git add Lista06 .DS_Store\n",
    "\n",
    "(base) Brunos-MacBook-Pro:Exercicio3 brunovargasadorno$ git commit -m \"Pasta com arquivos referentes à lista 06\"\n",
    "\n",
    "Resultado:\n",
    "Committer: Bruno Vargas Adorno <brunovargasadorno@Brunos-MacBook-Pro.local>\n",
    "Your name and email address were configured automatically based\n",
    "on your username and hostname. Please check that they are accurate.\n",
    "You can suppress this message by setting them explicitly. Run the\n",
    "following command and follow the instructions in your editor to edit\n",
    "your configuration file:\n",
    "\n",
    "    git config --global --edit\n",
    "\n",
    "After doing this, you may fix the identity used for this commit with:\n",
    "\n",
    "    git commit --amend --reset-author\n",
    "\n",
    " 7 files changed, 216 insertions(+)\n",
    " create mode 100644 .DS_Store\n",
    " create mode 100644 Lista06/.DS_Store\n",
    " create mode 100644 Lista06/exercicio-01.py\n",
    " create mode 100644 Lista06/exercicio-02.py\n",
    " create mode 100644 Lista06/exercicio-03.py\n",
    " create mode 100644 Lista06/exercicio-04.py\n",
    " create mode 100644 Lista06/exercicio-05.py\n"
   ]
  },
  {
   "cell_type": "markdown",
   "metadata": {},
   "source": [
    "Novamente verifiquei o status do git:"
   ]
  },
  {
   "cell_type": "raw",
   "metadata": {},
   "source": [
    "(base) Brunos-MacBook-Pro:Exercicio3 brunovargasadorno$ git status\n",
    "\n",
    "Resultado:\n",
    "\n",
    "On branch master\n",
    "Your branch is ahead of 'origin/master' by 1 commit.\n",
    "  (use \"git push\" to publish your local commits)\n",
    "\n",
    "nothing to commit, working tree clean"
   ]
  },
  {
   "cell_type": "markdown",
   "metadata": {},
   "source": [
    "Observou-se  a necessidade de usar o comando `git push` para publicar, enfim, esses arquivos no repositório remoto `Exercicio3`"
   ]
  },
  {
   "cell_type": "raw",
   "metadata": {},
   "source": [
    "(base) Brunos-MacBook-Pro:Exercicio3 brunovargasadorno$ git push\n",
    "    \n",
    "Resultado: \n",
    "\n",
    "Enumerating objects: 11, done.\n",
    "Counting objects: 100% (11/11), done.\n",
    "Delta compression using up to 4 threads\n",
    "Compressing objects: 100% (10/10), done.\n",
    "Writing objects: 100% (10/10), 5.33 KiB | 2.66 MiB/s, done.\n",
    "Total 10 (delta 2), reused 0 (delta 0)\n",
    "remote: Resolving deltas: 100% (2/2), done.\n",
    "To https://github.com/badorno/Exercicio3\n",
    "   a053678..dd427c1  master -> master"
   ]
  },
  {
   "cell_type": "markdown",
   "metadata": {},
   "source": [
    "Finalmente, os arquivos foram adicionados ao repositório remoto!"
   ]
  },
  {
   "cell_type": "markdown",
   "metadata": {},
   "source": [
    "O arquivo .DS Store foi removido diretamente do repositório remoto na sequencia."
   ]
  },
  {
   "cell_type": "markdown",
   "metadata": {},
   "source": [
    "O mesmo procedimento foi realizado para adicionar esse jupyter notebook ao repositório"
   ]
  },
  {
   "cell_type": "code",
   "execution_count": null,
   "metadata": {},
   "outputs": [],
   "source": []
  }
 ],
 "metadata": {
  "kernelspec": {
   "display_name": "Python (SER-347)",
   "language": "python",
   "name": "ser347"
  },
  "language_info": {
   "codemirror_mode": {
    "name": "ipython",
    "version": 3
   },
   "file_extension": ".py",
   "mimetype": "text/x-python",
   "name": "python",
   "nbconvert_exporter": "python",
   "pygments_lexer": "ipython3",
   "version": "3.7.7"
  }
 },
 "nbformat": 4,
 "nbformat_minor": 4
}
